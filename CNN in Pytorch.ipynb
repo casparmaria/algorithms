{
 "cells": [
  {
   "cell_type": "markdown",
   "metadata": {
    "id": "QRBDdr0SEqpT"
   },
   "source": [
    "# Assignment 4"
   ]
  },
  {
   "cell_type": "markdown",
   "metadata": {
    "id": "8xd57TRzExEr"
   },
   "source": [
    "**Assignment 4: Neural Networks**\n",
    "\n",
    "**Goal**: Get familiar with neural networks by implementing them and applying them to image classification."
   ]
  },
  {
   "cell_type": "markdown",
   "metadata": {
    "id": "yHNgWB1iFDu5"
   },
   "source": [
    "In this assignment we are going to learn about neural networks (NNs). The goal is to implement two neural networks: a fully-connected neural network, a convolutional neural network, and analyze their behavior.\n",
    "\n",
    "The considered task is image classification. We consider a dataset of small natural images (see the additional file) with multiple classes. We aim at formulating a model (a neural network) and learning it using the negative log-likelihood function (i.e., the cross-entropy loss) as the objective function, and the stochastic gradient descent as the optimizer.\n",
    "\n",
    "In this assignment, ​**the code must be implemented in PyTorch**."
   ]
  },
  {
   "cell_type": "markdown",
   "metadata": {
    "id": "Jxgc7c--P0GH"
   },
   "source": [
    "## 1 Understanding the problem\n",
    "\n"
   ]
  },
  {
   "cell_type": "markdown",
   "metadata": {
    "id": "oRteDLEPP3eX"
   },
   "source": [
    "The considered problem is about classifying images to $L$ classes. In the first part of the assignment, you are asked get familiar with PyTorch, a deep learning library, and the basics of neural networks, and implement neural-network-based classifiers. For this purpose, we will start with classifying small images (8px x 8px) of handwritten digits to one of 10 classes. The dataset is very small and all experiments could be achieved within a couple of minutes.\n",
    "\n",
    "In the second part, you are asked to implement the whole pipeline for a given dataset by yourself.\n",
    "\n",
    "Please run the code below and spend a while on analyzing the images.\n",
    "\n",
    "If any code line is unclear to you, please read on that in numpy, scipy, matplotlib and PyTorch docs."
   ]
  },
  {
   "cell_type": "code",
   "execution_count": 1,
   "metadata": {
    "id": "g4wCnPRz-MaE"
   },
   "outputs": [],
   "source": [
    "import os\n",
    "import numpy as np\n",
    "import matplotlib.pyplot as plt\n",
    "import torch\n",
    "from sklearn.datasets import load_digits\n",
    "from sklearn import datasets\n",
    "from torch.utils.data import Dataset, DataLoader\n",
    "import torch.nn as nn\n",
    "import torch.nn.functional as F\n",
    "\n",
    "EPS = 1.e-7"
   ]
  },
  {
   "cell_type": "code",
   "execution_count": 2,
   "metadata": {
    "id": "Xm4e0Utl-30c"
   },
   "outputs": [],
   "source": [
    "# PLEASE DO NOT REMOVE!\n",
    "# This is a class for the dataset of small (8px x 8px) digits.\n",
    "# Please try to understand in details how it works!\n",
    "class Digits(Dataset):\n",
    "    \"\"\"Scikit-Learn Digits dataset.\"\"\"\n",
    "\n",
    "    def __init__(self, mode='train', transforms=None):\n",
    "        self.transforms = transforms\n",
    "        digits = load_digits()\n",
    "        if mode == 'train':\n",
    "            self.data = digits.data[:1000].astype(np.float32)\n",
    "            self.targets = digits.target[:1000]\n",
    "        elif mode == 'val':\n",
    "            self.data = digits.data[1000:1350].astype(np.float32)\n",
    "            self.targets = digits.target[1000:1350]\n",
    "        else:\n",
    "            self.data = digits.data[1350:].astype(np.float32)\n",
    "            self.targets = digits.target[1350:]\n",
    "\n",
    "    def __len__(self):\n",
    "        return len(self.data)\n",
    "\n",
    "    def __getitem__(self, idx):\n",
    "        sample_x = self.data[idx]\n",
    "        sample_y = self.targets[idx]\n",
    "        if self.transforms:\n",
    "            sample_x = self.transforms(sample_x)\n",
    "        return (sample_x, sample_y)"
   ]
  },
  {
   "cell_type": "code",
   "execution_count": 3,
   "metadata": {
    "id": "bnDz_yGeuOnh"
   },
   "outputs": [
    {
     "data": {
      "image/png": "[encoded data removed]",
      "text/plain": [
       "<Figure size 288x288 with 16 Axes>"
      ]
     },
     "metadata": {
      "needs_background": "light"
     },
     "output_type": "display_data"
    }
   ],
   "source": [
    "# PLEASE DO NOT REMOVE\n",
    "# Here, we plot some images (8px x 8px).\n",
    "digits = load_digits()\n",
    "x = digits.data[:16].astype(np.float32)\n",
    "\n",
    "fig_data, axs = plt.subplots(4,4,figsize=(4, 4))\n",
    "fig_data.tight_layout()\n",
    "\n",
    "for i in range(4):\n",
    "    for j in range(4):\n",
    "        img = np.reshape(x[4*i+j],(8,8))\n",
    "        axs[i,j].imshow(img, cmap='gray')\n",
    "        axs[i,j].axis('off')"
   ]
  },
  {
   "cell_type": "markdown",
   "metadata": {
    "id": "wgc_GFOyRBEi"
   },
   "source": [
    "## 2 Neural Networks for Digits (4pt)"
   ]
  },
  {
   "cell_type": "markdown",
   "metadata": {
    "id": "gDVf1vyORGUB"
   },
   "source": [
    "In this assignment, you are asked to implement a neural network (NN) classifier. Please take a look at the class below and fill in the missing parts.\n",
    "\n",
    "NOTE: Please pay attention to the inputs and outputs of each function."
   ]
  },
  {
   "cell_type": "markdown",
   "metadata": {
    "id": "iwuEfxSKpFtD"
   },
   "source": [
    "### 2.1 Neural Network Classifier"
   ]
  },
  {
   "cell_type": "markdown",
   "metadata": {
    "id": "9FThxxdkpKcQ"
   },
   "source": [
    "Below, we have two helper modules (layers) that can be used to reshape and flatten a tensor. They are useful for creating sequentials with convolutional layers."
   ]
  },
  {
   "cell_type": "code",
   "execution_count": 21,
   "metadata": {
    "id": "5AB5Ch63Ak01"
   },
   "outputs": [],
   "source": [
    "# PLEASE DO NOT REMOVE!\n",
    "# Here are two auxiliary functions that can be used for a convolutional NN (CNN).\n",
    "\n",
    "# This module reshapes an input (tensor -> matrix).\n",
    "class Reshape(nn.Module):\n",
    "    def __init__(self, size):\n",
    "        super(Reshape, self).__init__()\n",
    "        self.size = size # a list\n",
    "  \n",
    "    def forward(self, x):\n",
    "        assert x.shape[1] == np.prod(self.size)\n",
    "        return x.view(x.shape[0], *self.size)\n",
    "\n",
    "# This module flattens an input (tensor -> matrix) by blending dimensions \n",
    "# beyond the batch size.\n",
    "class Flatten(nn.Module):\n",
    "    def __init__(self):\n",
    "        super(Flatten, self).__init__()\n",
    "  \n",
    "    def forward(self, x):\n",
    "        return x.view(x.shape[0], -1)"
   ]
  },
  {
   "cell_type": "markdown",
   "metadata": {
    "id": "x3i9R3NmpUY3"
   },
   "source": [
    "Below is the main class for a classifier parameterized by a neural network."
   ]
  },
  {
   "cell_type": "code",
   "execution_count": 22,
   "metadata": {
    "id": "Vtv_pAkmOrS3"
   },
   "outputs": [],
   "source": [
    "#=========\n",
    "# GRADING:\n",
    "# 0 \n",
    "# 0.5 pt if code works but it is explained badly\n",
    "# 1.0 pt if code works and it is explained well\n",
    "#=========\n",
    "# Implement a neural network (NN) classifier. \n",
    "\n",
    "class ClassifierNeuralNet(nn.Module):\n",
    "    def __init__(self, classnet):\n",
    "        super(ClassifierNeuralNet, self).__init__()\n",
    "        # We provide a sequential module with layers and activations\n",
    "        self.classnet = classnet\n",
    "        # The loss function (the negative log-likelihood)\n",
    "        self.nll = nn.NLLLoss(reduction='none') #it requires log-softmax as input!!\n",
    "\n",
    "    # This function classifies an image x to a class.\n",
    "    # The output must be a class label (long).\n",
    "    def classify(self, x):\n",
    "        # based on inputs x, a class prediction y is produced \n",
    "        y_pred = self.classnet(x)\n",
    "        y_preds = torch.tensor([torch.argmax(pred) for pred in y_pred])\n",
    "        return y_preds\n",
    "\n",
    "    # This function is crucial for a module in PyTorch.\n",
    "    # In our framework, this class outputs a value of the loss function.\n",
    "    def forward(self, x, y, reduction='avg'):\n",
    "        \n",
    "        y_pred = self.classnet(x)\n",
    "#         print(y_pred.shape)\n",
    "        loss = self.nll(y_pred,y)\n",
    "        \n",
    "        \n",
    "        if reduction == 'sum':\n",
    "            return loss.sum()\n",
    "        else:\n",
    "            return loss.mean()"
   ]
  },
  {
   "cell_type": "markdown",
   "metadata": {
    "id": "bwaou1x-gmx3"
   },
   "source": [
    "**Question 1 (0-0.5pt):** What is the objective function for a classification task? In other words, what is nn.NLLLoss in the code above? Pelase write it in mathematical terms.\n",
    "\n",
    "**Answer:**\n",
    "\n",
    "In classification, loss (so the distance between predicted labels and the actual target labels) is used as an objective function. The goal when training the neural network is to minimize that loss, thereby creating predictions that are closer to the truth. nn.NLLLoss is a layer that returns the negative log likelihood (since the log likelihood is negative, we minimize the negative value) of class labels. Those class labels need to be softmax-activated, so their summed likelihood must sum to 1. In essence, the model outputs class probabilities of the ten different classes of digits and the nn.NLLLoss computes how far off those probabilities are from the one-hot labeled true class label. Mathematically, NLLLoss is computed according to the following formula:\n",
    "\n",
    "$$L(\\Theta)=-\\sum_{n=1}^{N}(y_n \\ln s_n+(1-y_n)\\ln(1-s_n))$$\n",
    "\n",
    "Let's consider the following example: Model prediction: $[0.02,0.01,0.97]$, target label: $[0,0,1]$. According to the formula, the likelihood for the model producing the actual class labels is calculated using the negative log of $0*0.02 + 0*0.01 + 1*0.97 =0.97$, so $-\\log(0.97)\\approx 0.03$. When taking a one-hot vector of a worse prediction, say $[0.3,0.5,0.2]$ given that the target vector is still $[0,0,1]$, then the NLLLoss would equate to $0*0.3 + 0*0.5 + 1*0.2 =0.2$ and $-\\log(0.2)\\approx 1.61$. Since it is a minimization objective, the prior label vector was much better than the latter, which is exactly what is desired since the first was a better prediction of the target label than the latter. nn.NLLLoss computes distance between the target label (actual class) and the predicted probabilities. This loss is then minimized over time such that the difference between predicted and actual label become smaller and smaller."
   ]
  },
  {
   "cell_type": "markdown",
   "metadata": {
    "id": "kvX88kN-irAD"
   },
   "source": [
    "**Question 2 (0-0.5pt):** In the code above, it is said to use the logarithm of the softmax as the final activation function. Is it correct to use the log-softmax instead of the softmax for making predictions (i.e., picking the most probable label).\n",
    "\n",
    "**Answer:** Yes, it is fine because the logarithm does not change the most probable label, it changes only the probability to the log-probability."
   ]
  },
  {
   "cell_type": "markdown",
   "metadata": {
    "id": "HVqRQduw3mgm"
   },
   "source": [
    "### 2.2 Evaluation"
   ]
  },
  {
   "cell_type": "code",
   "execution_count": 23,
   "metadata": {
    "id": "4g9uUFgYP1kT"
   },
   "outputs": [],
   "source": [
    "# PLEASE DO NOT REMOVE\n",
    "def evaluation(test_loader, name=None, model_best=None, epoch=None):\n",
    "  # If available, load the best performing model\n",
    "  if model_best is None:\n",
    "    model_best = torch.load(name + '.model')\n",
    "  \n",
    "  model_best.eval()# set the model to the evaluation mode\n",
    "  loss_test = 0.\n",
    "  loss_error = 0.\n",
    "  N = 0.\n",
    "  # start evaluation\n",
    "  for indx_batch, (test_batch, test_targets) in enumerate(test_loader):\n",
    "    # loss (nll)\n",
    "    loss_test_batch = model_best.forward(test_batch, test_targets, reduction='sum')\n",
    "    loss_test = loss_test + loss_test_batch.item()\n",
    "    # classification error\n",
    "    y_pred = model_best.classify(test_batch)\n",
    "    \n",
    "    e = 1.*(y_pred == test_targets)\n",
    "    loss_error = loss_error + (1. - e).sum().item()\n",
    "    # the number of examples\n",
    "    N = N + test_batch.shape[0]\n",
    "  # divide by the number of examples\n",
    "  loss_test = loss_test / N\n",
    "  loss_error = loss_error / N\n",
    "\n",
    "  # Print the performance\n",
    "  if epoch is None:\n",
    "    print(f'-> FINAL PERFORMANCE: nll={loss_test}, ce={loss_error}')\n",
    "  else:\n",
    "    if epoch % 10 == 0:\n",
    "      print(f'Epoch: {epoch}, val nll={loss_test}, val ce={loss_error}')\n",
    "\n",
    "  return loss_test, loss_error\n",
    "\n",
    "# An auxiliary function for plotting the performance curves\n",
    "def plot_curve(name, signal, file_name='curve.pdf', xlabel='epochs', ylabel='nll', \\\n",
    "               color='b-', test_eval=None):\n",
    "  # plot the curve\n",
    "  plt.plot(np.arange(len(signal)), signal, color, linewidth='3', label=ylabel +' val')\n",
    "  # if available, add the final (test) performance\n",
    "  if test_eval is not None:\n",
    "    plt.hlines(test_eval, xmin=0, xmax=len(signal), linestyles='dashed', label=ylabel\\\n",
    "               +' test')\n",
    "    plt.text(len(signal), test_eval, \"{:.3f}\".format(test_eval),)\n",
    "  # set x- and ylabels, add legend, save the figure\n",
    "  plt.xlabel(xlabel), plt.ylabel(ylabel)\n",
    "  plt.legend()\n",
    "  plt.savefig(name + file_name, bbox_inches='tight')\n",
    "  plt.show()"
   ]
  },
  {
   "cell_type": "markdown",
   "metadata": {
    "id": "YzRd-TiY3puF"
   },
   "source": [
    "### 2.3 Training procedure"
   ]
  },
  {
   "cell_type": "code",
   "execution_count": 25,
   "metadata": {
    "id": "CMhQWbM1QcBM"
   },
   "outputs": [],
   "source": [
    "# PLEASE DO NOT REMOVE!\n",
    "# The training procedure\n",
    "def training(name, max_patience, num_epochs, model, optimizer, training_loader, \\\n",
    "             val_loader):\n",
    "  nll_val = []\n",
    "  error_val = []\n",
    "  best_nll = 1000.\n",
    "  patience = 0\n",
    "\n",
    "  # Main training loop\n",
    "  for e in range(num_epochs):\n",
    "    model.train() # set the model to the training mode\n",
    "    # load batches\n",
    "    for indx_batch, (batch, targets) in enumerate(training_loader):\n",
    "      # calculate the forward pass (loss function for given images and labels)\n",
    "      loss = model.forward(batch, targets)\n",
    "      # remember we need to zero gradients! Just in case!\n",
    "      optimizer.zero_grad()\n",
    "      # calculate backward pass\n",
    "      loss.backward(retain_graph=True)\n",
    "      # run the optimizer\n",
    "      optimizer.step()\n",
    "\n",
    "    # Validation: Evaluate the model on the validation data\n",
    "    loss_e, error_e = evaluation(val_loader, model_best=model, epoch=e)\n",
    "    nll_val.append(loss_e)  # save for plotting\n",
    "    error_val.append(error_e)  # save for plotting\n",
    "\n",
    "    # Early-stopping: update the best performing model and break training if no \n",
    "    # progress is observed.\n",
    "    if e == 0:\n",
    "      torch.save(model, name + '.model')\n",
    "      best_nll = loss_e\n",
    "    else:\n",
    "      if loss_e < best_nll:\n",
    "        torch.save(model, name + '.model')\n",
    "        best_nll = loss_e\n",
    "        patience = 0\n",
    "      else:\n",
    "        patience = patience + 1\n",
    "\n",
    "    if patience > max_patience:\n",
    "      break\n",
    "\n",
    "  # Return nll and classification error.\n",
    "  nll_val = np.asarray(nll_val)\n",
    "  error_val = np.asarray(error_val)\n",
    "\n",
    "  return nll_val, error_val"
   ]
  },
  {
   "cell_type": "markdown",
   "metadata": {
    "id": "gHYGz3G87nuk"
   },
   "source": [
    "### 2.4 Experiments"
   ]
  },
  {
   "cell_type": "markdown",
   "metadata": {
    "id": "op-YbN-JREqw"
   },
   "source": [
    "#### Initialize dataloaders"
   ]
  },
  {
   "cell_type": "code",
   "execution_count": 26,
   "metadata": {
    "id": "R_cRaP3gRET1"
   },
   "outputs": [],
   "source": [
    "# PLEASE DO NOT REMOVE\n",
    "# Initialize training, validation and test sets.\n",
    "train_data = Digits(mode='train')\n",
    "val_data = Digits(mode='val')\n",
    "test_data = Digits(mode='test')\n",
    "\n",
    "# Initialize data loaders.\n",
    "training_loader = DataLoader(train_data, batch_size=64, shuffle=True)\n",
    "val_loader = DataLoader(val_data, batch_size=64, shuffle=False)\n",
    "test_loader = DataLoader(test_data, batch_size=64, shuffle=False)"
   ]
  },
  {
   "cell_type": "code",
   "execution_count": 27,
   "metadata": {
    "id": "2Lqwm5c3oRia"
   },
   "outputs": [
    {
     "name": "stdout",
     "output_type": "stream",
     "text": [
      "How do we get our data from Digits class? \n",
      "\n",
      "Feature example: [ 0.  0.  0. 12. 13.  5.  0.  0.  0.  0.  0. 11. 16.  9.  0.  0.  0.  0.\n",
      "  3. 15. 16.  6.  0.  0.  0.  7. 15. 16. 16.  2.  0.  0.  0.  0.  1. 16.\n",
      " 16.  3.  0.  0.  0.  0.  1. 16. 16.  6.  0.  0.  0.  0.  1. 16. 16.  6.\n",
      "  0.  0.  0.  0.  0. 11. 16. 10.  0.  0.]\n",
      "Feature example shape: (64,)\n",
      "Label example: 1\n"
     ]
    }
   ],
   "source": [
    "print(\"How do we get our data from Digits class? \\n\")\n",
    "print(f\"Feature example: {train_data[1][0]}\")\n",
    "print(f\"Feature example shape: {train_data[1][0].shape}\")\n",
    "print(f\"Label example: {train_data[1][1]}\")"
   ]
  },
  {
   "cell_type": "code",
   "execution_count": 28,
   "metadata": {
    "id": "F5OuaSTOhocZ"
   },
   "outputs": [
    {
     "name": "stdout",
     "output_type": "stream",
     "text": [
      "How do we get our data from Pytorch DataLoader class? \n",
      "\n",
      "Feature batch shape: torch.Size([64, 64])\n",
      "Labels batch shape: torch.Size([64])\n",
      "\n",
      "\n",
      "What happens if we reshape a feature batch? \n",
      "\n",
      "Feature batch shape after reshape: torch.Size([64, 1, 8, 8])\n",
      "\n",
      "\n",
      "What happens if we flatten a reshaped feature batch? \n",
      "\n",
      "Feature batch shape after flatten: torch.Size([64, 64])\n"
     ]
    }
   ],
   "source": [
    "print(\"How do we get our data from Pytorch DataLoader class? \\n\")\n",
    "train_features, train_labels = (iter(training_loader)).next()\n",
    "print(f\"Feature batch shape: {train_features.size()}\")\n",
    "print(f\"Labels batch shape: {train_labels.size()}\")\n",
    "\n",
    "print(\"\\n\\nWhat happens if we reshape a feature batch? \\n\")\n",
    "reshape = Reshape(size=(1,8,8))\n",
    "train_features_reshaped = reshape(train_features)\n",
    "print(f\"Feature batch shape after reshape: {train_features_reshaped.size()}\")\n",
    "\n",
    "print(\"\\n\\nWhat happens if we flatten a reshaped feature batch? \\n\")\n",
    "flatten = Flatten()\n",
    "train_features_flattened = flatten(train_features_reshaped)\n",
    "print(f\"Feature batch shape after flatten: {train_features_flattened.size()}\")"
   ]
  },
  {
   "cell_type": "markdown",
   "metadata": {
    "id": "s3ni_8Pv3iuG"
   },
   "source": [
    "#### Initialize hyperparameters"
   ]
  },
  {
   "cell_type": "code",
   "execution_count": 29,
   "metadata": {
    "id": "dnMs4gcLRLEK"
   },
   "outputs": [],
   "source": [
    "# PLEASE DO NOT REMOVE\n",
    "# Hyperparameters\n",
    "# -> data hyperparams\n",
    "D = 64   # input dimension\n",
    "\n",
    "# -> model hyperparams\n",
    "M = 256  # the number of neurons in scale (s) and translation (t) nets\n",
    "K = 10 # the number of labels\n",
    "num_kernels = 32 #the number of kernels for CNN\n",
    "\n",
    "# -> training hyperparams\n",
    "lr = 1e-3 # learning rate\n",
    "wd = 1e-5 # weight decay\n",
    "num_epochs = 1000 # max. number of epochs\n",
    "max_patience = 20 # an early stopping is used, if training doesn't improve for \n",
    "                  # longer than 20 epochs, it is stopped"
   ]
  },
  {
   "cell_type": "markdown",
   "metadata": {
    "id": "9VDyHP173vLF"
   },
   "source": [
    "#### Running experiments"
   ]
  },
  {
   "cell_type": "markdown",
   "metadata": {
    "id": "f9T9nXcE3xF2"
   },
   "source": [
    "In the code below, you are supposed to implement architectures for MLP and CNN. For properly implementing these architectures, you can get 0.5pt for each of them."
   ]
  },
  {
   "cell_type": "code",
   "execution_count": 30,
   "metadata": {
    "id": "AZH7ahwBRP9B"
   },
   "outputs": [
    {
     "name": "stdout",
     "output_type": "stream",
     "text": [
      "\n",
      "-> START classifier_mlp\n",
      "Epoch: 0, val nll=3.1099076625279016, val ce=0.9285714285714286\n"
     ]
    },
    {
     "name": "stderr",
     "output_type": "stream",
     "text": [
      "/home/sid/.local/lib/python3.8/site-packages/torch/nn/modules/container.py:141: UserWarning: Implicit dimension choice for log_softmax has been deprecated. Change the call to include dim=X as an argument.\n",
      "  input = module(input)\n"
     ]
    },
    {
     "name": "stdout",
     "output_type": "stream",
     "text": [
      "Epoch: 10, val nll=1.4393455287388393, val ce=0.43714285714285717\n",
      "Epoch: 20, val nll=0.6969543293544225, val ce=0.14\n",
      "Epoch: 30, val nll=0.43190282549176895, val ce=0.09714285714285714\n",
      "Epoch: 40, val nll=0.32706730433872766, val ce=0.08\n",
      "Epoch: 50, val nll=0.272446391241891, val ce=0.07142857142857142\n",
      "Epoch: 60, val nll=0.23980467660086496, val ce=0.07428571428571429\n",
      "Epoch: 70, val nll=0.21578563145228793, val ce=0.06857142857142857\n",
      "Epoch: 80, val nll=0.20036073752811978, val ce=0.06571428571428571\n",
      "Epoch: 90, val nll=0.18536660671234131, val ce=0.05714285714285714\n",
      "Epoch: 100, val nll=0.17890294688088554, val ce=0.05714285714285714\n",
      "Epoch: 110, val nll=0.1731166594369071, val ce=0.05714285714285714\n",
      "Epoch: 120, val nll=0.16740639890943254, val ce=0.05714285714285714\n",
      "Epoch: 130, val nll=0.1620484413419451, val ce=0.05714285714285714\n",
      "Epoch: 140, val nll=0.15733928612300327, val ce=0.05142857142857143\n",
      "Epoch: 150, val nll=0.15578031267438616, val ce=0.05142857142857143\n",
      "Epoch: 160, val nll=0.1523827406338283, val ce=0.04857142857142857\n",
      "Epoch: 170, val nll=0.15321253980909075, val ce=0.045714285714285714\n",
      "Epoch: 180, val nll=0.15019192627498082, val ce=0.045714285714285714\n",
      "Epoch: 190, val nll=0.14900757380894253, val ce=0.037142857142857144\n",
      "Epoch: 200, val nll=0.15065665926252092, val ce=0.04\n",
      "Epoch: 210, val nll=0.1485397107260568, val ce=0.037142857142857144\n",
      "Epoch: 220, val nll=0.15032543182373048, val ce=0.037142857142857144\n",
      "Epoch: 230, val nll=0.14779393809182303, val ce=0.037142857142857144\n",
      "Epoch: 240, val nll=0.14845719609941754, val ce=0.037142857142857144\n",
      "-> FINAL PERFORMANCE: nll=0.37537646346977627, ce=0.08277404921700224\n"
     ]
    },
    {
     "data": {
      "image/png": "[encoded data removed]",
      "text/plain": [
       "<Figure size 432x288 with 1 Axes>"
      ]
     },
     "metadata": {
      "needs_background": "light"
     },
     "output_type": "display_data"
    },
    {
     "data": {
      "image/png": "[encoded data removed]",
      "text/plain": [
       "<Figure size 432x288 with 1 Axes>"
      ]
     },
     "metadata": {
      "needs_background": "light"
     },
     "output_type": "display_data"
    },
    {
     "name": "stdout",
     "output_type": "stream",
     "text": [
      "\n",
      "-> START classifier_cnn\n",
      "Epoch: 0, val nll=2.0822217232840403, val ce=0.72\n"
     ]
    },
    {
     "name": "stderr",
     "output_type": "stream",
     "text": [
      "/home/sid/.local/lib/python3.8/site-packages/torch/nn/modules/container.py:141: UserWarning: Implicit dimension choice for log_softmax has been deprecated. Change the call to include dim=X as an argument.\n",
      "  input = module(input)\n"
     ]
    },
    {
     "name": "stdout",
     "output_type": "stream",
     "text": [
      "Epoch: 10, val nll=0.8210998426164899, val ce=0.12\n",
      "Epoch: 20, val nll=0.45912420000348775, val ce=0.09142857142857143\n",
      "Epoch: 30, val nll=0.32739845820835656, val ce=0.07142857142857142\n",
      "Epoch: 40, val nll=0.2630504935128348, val ce=0.06857142857142857\n",
      "Epoch: 50, val nll=0.225377562386649, val ce=0.06571428571428571\n",
      "Epoch: 60, val nll=0.20220616340637207, val ce=0.06\n",
      "Epoch: 70, val nll=0.18624019350324358, val ce=0.05714285714285714\n",
      "Epoch: 80, val nll=0.1720313004084996, val ce=0.05714285714285714\n",
      "Epoch: 90, val nll=0.16329002516610283, val ce=0.05714285714285714\n",
      "Epoch: 100, val nll=0.1561818858555385, val ce=0.05714285714285714\n",
      "Epoch: 110, val nll=0.14905291557312011, val ce=0.054285714285714284\n",
      "Epoch: 120, val nll=0.1459029177256993, val ce=0.05142857142857143\n",
      "Epoch: 130, val nll=0.14271036079951696, val ce=0.05142857142857143\n",
      "Epoch: 140, val nll=0.1405486031941005, val ce=0.05142857142857143\n",
      "Epoch: 150, val nll=0.13777614116668702, val ce=0.05142857142857143\n",
      "Epoch: 160, val nll=0.13619681426456998, val ce=0.04857142857142857\n",
      "Epoch: 170, val nll=0.13690899576459611, val ce=0.04857142857142857\n",
      "Epoch: 180, val nll=0.13530473436628068, val ce=0.045714285714285714\n",
      "Epoch: 190, val nll=0.135360563823155, val ce=0.045714285714285714\n",
      "Epoch: 200, val nll=0.1354523536137172, val ce=0.045714285714285714\n",
      "-> FINAL PERFORMANCE: nll=0.4060413970776586, ce=0.0894854586129754\n"
     ]
    },
    {
     "data": {
      "image/png": "[encoded data removed]",
      "text/plain": [
       "<Figure size 432x288 with 1 Axes>"
      ]
     },
     "metadata": {
      "needs_background": "light"
     },
     "output_type": "display_data"
    },
    {
     "data": {
      "image/png": "[encoded data removed]",
      "text/plain": [
       "<Figure size 432x288 with 1 Axes>"
      ]
     },
     "metadata": {
      "needs_background": "light"
     },
     "output_type": "display_data"
    }
   ],
   "source": [
    "import math\n",
    "# PLEASE DO NOT REMOVE and FILL IN WHEN NECESSARY!\n",
    "# We will run two models: MLP and CNN\n",
    "names = [\n",
    "         'classifier_mlp', \n",
    "         'classifier_cnn']\n",
    "\n",
    "\n",
    "# names = ['classifier_cnn']\n",
    "\n",
    "# loop over models\n",
    "for name in names:\n",
    "    print('\\n-> START {}'.format(name))\n",
    "    # Create a folder (REMEMBER: You must mount your drive if you use Colab!)\n",
    "    if name == 'classifier_mlp':\n",
    "        name = name + '_M_' + str(M)\n",
    "    elif name == 'classifier_cnn':\n",
    "        name = name + '_M_' + str(M) + '_kernels_' + str(num_kernels)\n",
    "\n",
    "\n",
    "  # Create a folder if necessary\n",
    "    results_dir = './content/'\n",
    "    result_dir = os.path.join(os.getcwd(), 'results')\n",
    "    if not(os.path.exists(result_dir)):\n",
    "        os.mkdir(result_dir)\n",
    "\n",
    "  # MLP\n",
    "    if name[0:14] == 'classifier_mlp':\n",
    "        #=========\n",
    "        # GRADING: \n",
    "        # 0\n",
    "        # 0.5pt if properly implemented\n",
    "        #=========\n",
    "        #------\n",
    "        # PLEASE FILL IN:\n",
    "        # classnet = nn.Sequential(...)\n",
    "        #\n",
    "        # You are asked here to propose your own architecture\n",
    "        # NOTE: Please remember that the output must be LogSoftmax!\n",
    "        #------\n",
    "        classnet = nn.Sequential(\n",
    "            nn.Linear(D,16),\n",
    "            nn.ReLU(16),\n",
    "            nn.Linear(16,K),\n",
    "            nn.LogSoftmax(),\n",
    "        )\n",
    "\n",
    "    # CNN\n",
    "    elif name[0:14] == 'classifier_cnn':\n",
    "\n",
    "        #=========\n",
    "        # GRADING: \n",
    "        # 0\n",
    "        # 0.5pt if properly implemented\n",
    "        #=========\n",
    "        #------\n",
    "        # PLEASE FILL IN:\n",
    "        \n",
    "       \n",
    "        classnet = nn.Sequential(\n",
    "            Reshape(size=(1,8,8)),\n",
    "            nn.Conv2d(1, 2, kernel_size=2, stride=1, padding=1),\n",
    "            nn.BatchNorm2d(2),\n",
    "            nn.ReLU(inplace=True),\n",
    "            Flatten(),\n",
    "            nn.Linear(162,K),\n",
    "            nn.LogSoftmax()\n",
    "        )\n",
    "        pass\n",
    "        #\n",
    "        # You are asked here to propose your own architecture\n",
    "        # NOTE: Plese note that the images are represented as vectors, thus, you must\n",
    "        # use Reshape(size) as the first layer, and Flatten() after all convolutional\n",
    "        # layers and before linear layers.\n",
    "        # NOTE: Please remember that the output must be LogSoftmax!\n",
    "        #------\n",
    "\n",
    "    # Init ClassifierNN\n",
    "    model = ClassifierNeuralNet(classnet)  \n",
    "    \n",
    "\n",
    "    # Init OPTIMIZER (here we use ADAMAX)\n",
    "    optimizer = torch.optim.Adamax([p for p in model.parameters() \n",
    "                                    if p.requires_grad == True], lr=lr, weight_decay=wd) \n",
    "\n",
    "    # Training procedure\n",
    "    nll_val, error_val = training(name=result_dir + name,\n",
    "                                max_patience=max_patience,\n",
    "                                num_epochs=num_epochs,\n",
    "                                model=model,\n",
    "                                optimizer=optimizer,\n",
    "                                training_loader=training_loader,\n",
    "                                val_loader=val_loader)\n",
    "  \n",
    "    # The final evaluation (on the test set)\n",
    "    test_loss, test_error = evaluation(name=result_dir + name, test_loader=test_loader)\n",
    "    # write the results to a file\n",
    "    f = open(result_dir + name + '_test_loss.txt', \"w\")\n",
    "    f.write('NLL: ' + str(test_loss) + '\\nCE: ' + str(test_error))\n",
    "    f.close()\n",
    "    # create curves\n",
    "    plot_curve(result_dir + name, nll_val, file_name='_nll_val_curve.pdf', ylabel='nll', \n",
    "               test_eval=test_loss)\n",
    "    plot_curve(result_dir + name, error_val, file_name='_ca_val_curve.pdf', ylabel='ce', \n",
    "               color='r-', test_eval=test_error)"
   ]
  },
  {
   "cell_type": "markdown",
   "metadata": {
    "id": "oFX-DzH9ftPg"
   },
   "source": [
    "## 2.5 Analysis"
   ]
  },
  {
   "attachments": {
    "43d027f2-e6ed-4971-84ee-7a36c3313952.png": {
     "image/png": "[encoded data removed]"
    },
    "6f5ba59a-26b9-48ae-b514-f10a7c5c35b9.png": {
     "image/png": "[encoded data removed]"
    },
    "b6a1f5bd-e433-4288-8788-6a1fb1711bfe.png": {
     "image/png": "[encoded data removed]"
    },
    "f1557686-5dea-4c26-86f1-833c19ebdc4b.png": {
     "image/png": "[encoded data removed]"
    }
   },
   "cell_type": "markdown",
   "metadata": {
    "id": "2-TFtGdZfz3a"
   },
   "source": [
    "**Question 3 (0-0.5pt)**: Please compare the convergence of MLP and CNN in terms of the loss function and the classification error.\n",
    "\n",
    "**Answer**: \n",
    "\n",
    "The plot of the nll-loss depicts how far off the predicted class probabilities are from the target label. The following plot shows the reduction of that loss during the training of the MLP and CNN models respectively.\n",
    "\n",
    "![mlp nll.png](attachment:6f5ba59a-26b9-48ae-b514-f10a7c5c35b9.png)\n",
    "![cnn nll.png](attachment:43d027f2-e6ed-4971-84ee-7a36c3313952.png)\n",
    "\n",
    "As becomes evident in the plots, the speed of convergence displayed by the shape of the curve is relatively similar in both models. The difference between the two is the final loss to which the two models converge. The MLP (left) has a higher overall loss, even though it converges with a similar speed, it comes close to a worse overall loss than the CNN model (right). The testing loss depicted by the dashed blue line in both plots shows this difference as well; the MLP plot has a higher (i.e. worse) nll loss which means that its predictions are further off from the target label than the CNN model. \n",
    "\n",
    "The plots also show that both models are overfitting on the training data since they are converging towards some error on the training data that lies below the testing error by a significant margin. A reason for this might be that when creating testing and training data by splitting it on arbitrary values in the dataset, the testing data might be biased towards some digit that is underrepresented in one of the two parts.\n",
    "\n",
    "Classification error is the proportion of instances misclassified over the whole dataset. The two plots below show the classification error (ce) of the MLP (left) and CNN (right) model:\n",
    "\n",
    "![mlp ce.png](attachment:f1557686-5dea-4c26-86f1-833c19ebdc4b.png)\n",
    "![cnn ce.png](attachment:b6a1f5bd-e433-4288-8788-6a1fb1711bfe.png)\n",
    "\n",
    "Evidently, the CNN model converges slightly faster towards a better (lower) classification error, since the right curve is descending faster than the left. Overall, both models seem to have similar classification errors on the testing set. Just as seen with the nll plots, these models are overfitting on the training data since they are converging towards some error significantly below the testing error. Further, the error rates are not decreasing drastically over time which suggests that training could have been stopped half way into the process.  "
   ]
  },
  {
   "cell_type": "markdown",
   "metadata": {
    "id": "0f2P57ZmlwXz"
   },
   "source": [
    "**Question 4 (0-0.5pt)**: In general, for a properly picked architectures, a CNN should work better than an MLP. Did you notice that? Why (in general) CNNs are better suited to images than MLPs?\n",
    "\n",
    "**Answer**: In my implementation, the CNN does not perform much better than the MLP structure. Given a better / more thorough implementation of both network types, the CNN will eventually outperform the MLP since it can focus on subparts images. In general, image classification is generally tackled with CNNs since they are very effective in reducing the number of parameters of the picture without downgrading the performance of models. Using MLP for the same purpose ends up being very costly in terms of computation since the number of parameters becomes large. Another advantage of CNNs is that nearby pixels are more strongly related than distant ones due to parameter sharing of the kernels which end up looking for specific patterns in the image which  is location invariant.\n"
   ]
  },
  {
   "cell_type": "markdown",
   "metadata": {
    "id": "1QJ_mRdT7Ais"
   },
   "source": [
    "## 3 Application to Street House View Numbers (SVHN) (6pt)"
   ]
  },
  {
   "cell_type": "markdown",
   "metadata": {
    "id": "YHhUUaYL7GEx"
   },
   "source": [
    "Please repeat (some) of the code in the previous section and apply a bigger convolutional neural network (CNN) to the following dataset:\n",
    "\n",
    "http://ufldl.stanford.edu/housenumbers/\n",
    "\n",
    "Please follow the following steps:\n",
    "1. (1pt) Create appropriate Dataset class. Please remember to use the original training data and test data, and also to create a validation set from the traning data (at least 10% of the training examples). **Do not use extra examples!**\n",
    "2. (1pt) Implement an architecture that will give at most 0.1 classification error. For instance, see this paper as a reference: https://arxiv.org/pdf/1204.3968.pdf#:~:text=The%20SVHN%20classification%20dataset%20%5B8,set%20of%20more%20difficult%20samples\n",
    "3. (1pt) Think of an extra component that could improve the performance (e.g., a regularization, specific activation functions).\n",
    "4. (1pt) Provide a good explanation of the applied architecture and a description of all components.\n",
    "5. (2pt) Analyze the results.\n",
    "\n",
    "**Please be very precise, comment your code and provide a comprehensive and clear analysis.**"
   ]
  },
  {
   "cell_type": "code",
   "execution_count": 13,
   "metadata": {},
   "outputs": [],
   "source": [
    "from sklearn.model_selection import train_test_split\n",
    "import scipy.io\n",
    "import numpy as np\n",
    "import torchvision.transforms as Transformer\n",
    "\n",
    "\n",
    "class Housenumbers(Dataset):\n",
    "    \"\"\"Scikit-Learn Digits dataset.\"\"\"\n",
    "\n",
    "    def __init__(self, mode='train', transforms=None):       \n",
    "        # copied from original class, does not have influence on my code.\n",
    "        self.transforms = transforms \n",
    "        \n",
    "        # pull training data from matlab files using self-made function\n",
    "        train_pixels, train_targets = self.load_svhn(os.getcwd())\n",
    "        test_pixels, test_targets = self.load_svhn(os.getcwd(),split='test')\n",
    "        \n",
    "        # randomly splitting off validation data used to test performance during training\n",
    "        # placing randomstate = 42 to ensure that the same set of validation is used \n",
    "        # in the case that the class is instantiated several times\n",
    "        train_pixels, val_pixels, train_targets, val_targets = train_test_split(\n",
    "                                                            train_pixels,\n",
    "                                                            train_targets,\n",
    "                                                            test_size=0.2,\n",
    "                                                            random_state=42)\n",
    "        # store training data\n",
    "        if mode == 'train':\n",
    "            self.data = train_pixels\n",
    "            self.targets = train_targets\n",
    "        # store validation data\n",
    "        elif mode == 'val':\n",
    "            self.data = val_pixels\n",
    "            self.targets = val_targets\n",
    "        # store testing data\n",
    "        elif mode == 'test':\n",
    "            self.data = test_pixels\n",
    "            self.targets = test_targets\n",
    "        # catch case that unknown mode has been entered\n",
    "        else:\n",
    "            raise Exception('Unkown mode. Cannot create data.')\n",
    "        print(f'{mode} data created')\n",
    "        \n",
    "    \n",
    "    def __len__(self):\n",
    "        return len(self.data)\n",
    "\n",
    "    def __getitem__(self, idx):\n",
    "        sample_x = self.data[idx]\n",
    "        sample_y = self.targets[idx]\n",
    "        if self.transforms:\n",
    "            sample_x = self.transforms(sample_x)\n",
    "        return (sample_x, sample_y)\n",
    "    \n",
    "    # function that takes in a dataset in the form of\n",
    "    # [N, pic_height, pic_width, nr_dim] (numpy format)\n",
    "    # and returns \n",
    "    # [N, nr_dim, pic_height, pic_width] (torch format)\n",
    "    # additionally, all values are transformed to floats\n",
    "    def transform_to_torch_tensor(self, dataset):\n",
    "            # use transformer module as basis for tensor transformation\n",
    "            transform = Transformer.ToTensor()\n",
    "            l = [transform(i).float() for i in dataset]\n",
    "            return torch.stack(l)\n",
    "    \n",
    "    # function that reads the training data from the downloaded files\n",
    "    def load_svhn(self, image_dir, split='train'):\n",
    "        # depending on the split, open the two different files\n",
    "        image_file = 'train_32x32.mat' if split=='train' else 'test_32x32.mat'\n",
    "        image_dir = os.path.join(image_dir, image_file)\n",
    "        # open file in matlab format\n",
    "        matlab_labels = scipy.io.loadmat(image_dir)\n",
    "        # transform to numpy\n",
    "        labels = matlab_labels['y'].reshape(-1)\n",
    "        # set labels==10 to labels 0\n",
    "        labels[np.where(labels==10)] = 0\n",
    "        # transpose to numpy format\n",
    "        images_np = np.transpose(matlab_labels['X'], [3, 0, 1, 2]) / 255\n",
    "        # transpose to torch format -> tensor\n",
    "        torch_pixels = self.transform_to_torch_tensor(images_np)\n",
    "        \n",
    "        return torch_pixels, labels"
   ]
  },
  {
   "cell_type": "code",
   "execution_count": 14,
   "metadata": {},
   "outputs": [
    {
     "name": "stdout",
     "output_type": "stream",
     "text": [
      "train data created\n",
      "val data created\n",
      "test data created\n",
      "done\n"
     ]
    }
   ],
   "source": [
    "# create data instances for the different modes used during training and\n",
    "# testing of the CNN\n",
    "train_data = Housenumbers(mode='train')\n",
    "val_data = Housenumbers(mode='val')\n",
    "test_data = Housenumbers(mode='test')\n",
    "print('done')"
   ]
  },
  {
   "cell_type": "code",
   "execution_count": 15,
   "metadata": {},
   "outputs": [],
   "source": [
    "# load the created datasets into the DataLoader that provides the data\n",
    "# during both the training as well as the testing process\n",
    "training_loader = DataLoader(train_data, batch_size=32, shuffle=True)\n",
    "val_loader = DataLoader(val_data, batch_size=32, shuffle=False)\n",
    "test_loader = DataLoader(test_data, batch_size=32, shuffle=False)"
   ]
  },
  {
   "cell_type": "code",
   "execution_count": 19,
   "metadata": {},
   "outputs": [
    {
     "name": "stdout",
     "output_type": "stream",
     "text": [
      "Epoch: 0, val nll=1.5077853115601452, val ce=0.4658067158067158\n",
      "Epoch: 10, val nll=0.3705384754073643, val ce=0.10722085722085722\n",
      "Epoch: 20, val nll=0.30844691973418575, val ce=0.09125034125034125\n",
      "Epoch: 30, val nll=0.2903008210815239, val ce=0.08394758394758395\n",
      "Epoch: 40, val nll=0.26781663268503514, val ce=0.07862407862407862\n",
      "Epoch: 50, val nll=0.26282472894258785, val ce=0.07527982527982528\n",
      "Epoch: 60, val nll=0.25522669928502817, val ce=0.07371007371007371\n",
      "Epoch: 70, val nll=0.2525015722816836, val ce=0.07241332241332242\n",
      "Epoch: 80, val nll=0.25185431283727033, val ce=0.07152607152607153\n",
      "Epoch: 90, val nll=0.24605193535242775, val ce=0.06975156975156975\n",
      "Epoch: 100, val nll=0.24496905709668454, val ce=0.06859131859131859\n",
      "Epoch: 110, val nll=0.24687537561909864, val ce=0.06988806988806989\n",
      "Epoch: 120, val nll=0.23474728057139108, val ce=0.0662025662025662\n",
      "Epoch: 130, val nll=0.23922498377333434, val ce=0.0679088179088179\n",
      "Epoch: 140, val nll=0.23359165512739294, val ce=0.06565656565656566\n",
      "Epoch: 150, val nll=0.23587748162609093, val ce=0.065997815997816\n",
      "Epoch: 160, val nll=0.23409272050584173, val ce=0.06497406497406498\n",
      "Epoch: 170, val nll=0.23037640607620632, val ce=0.06579306579306579\n",
      "Epoch: 180, val nll=0.23450610269020725, val ce=0.06681681681681682\n",
      "Epoch: 190, val nll=0.23006633487704214, val ce=0.06442806442806442\n",
      "-> FINAL PERFORMANCE: nll=0.2351919718821703, ce=0.06303779963122311\n"
     ]
    },
    {
     "data": {
      "image/png": "[encoded data removed]",
      "text/plain": [
       "<Figure size 432x288 with 1 Axes>"
      ]
     },
     "metadata": {
      "needs_background": "light"
     },
     "output_type": "display_data"
    },
    {
     "data": {
      "image/png": "[encoded data removed]",
      "text/plain": [
       "<Figure size 432x288 with 1 Axes>"
      ]
     },
     "metadata": {
      "needs_background": "light"
     },
     "output_type": "display_data"
    }
   ],
   "source": [
    "# create CNN class, inherit NN class from torch\n",
    "class HousenumberCNN(nn.Module):\n",
    "    def __init__(self, classnet):\n",
    "        # init super (parent) class\n",
    "        super().__init__()\n",
    "        # import set of layers that was designed\n",
    "        self.classnet = classnet\n",
    "        # import loss function\n",
    "        self.nll = nn.NLLLoss(reduction='none')\n",
    "\n",
    "    # This function classifies an image x to a class.\n",
    "    def classify(self, x):\n",
    "        # based on inputs x, a class prediction y is produced \n",
    "        # my multiplying the differnt layers based on the weights\n",
    "        y_pred = self.classnet(x)\n",
    "        # get a label in format long from the prediction\n",
    "        y_preds = torch.tensor([torch.argmax(pred) for pred in y_pred])\n",
    "        return y_preds # returns label\n",
    "\n",
    "    # This class outputs a value of the loss function.\n",
    "    def forward(self, x, y, reduction='avg'):\n",
    "        \n",
    "        # get a label prediction of the set of layers that was created\n",
    "        y_pred = self.classnet(x)\n",
    "        # calculate the distance between calculated probabilities y_pred\n",
    "        # and onehot vector y that encodes the actual label of the picture\n",
    "        loss = self.nll(y_pred,y)\n",
    "        \n",
    "        if reduction == 'sum':\n",
    "            return loss.sum()\n",
    "        else:\n",
    "            return loss.mean()\n",
    "# initialize the sequence of layers of my CNN. \n",
    "# their detailed functionality will be explained in a cell below\n",
    "classnet = nn.Sequential(\n",
    "        nn.Conv2d(3,32,kernel_size = (3,3), padding='same'),\n",
    "#         nn.BatchNorm2d(32),\n",
    "        nn.ReLU(inplace = True),\n",
    "        nn.MaxPool2d(kernel_size = (2,2)),\n",
    "        nn.Dropout(0.3),\n",
    "        nn.Conv2d(32,64, kernel_size = (3,3), padding='same'),\n",
    "        nn.ReLU(inplace = True),\n",
    "        nn.MaxPool2d(kernel_size = (2,2)),\n",
    "        nn.Dropout(0.3),\n",
    "        nn.Conv2d(64,128,kernel_size = (3,3), padding='same'),\n",
    "        nn.ReLU(inplace = True),\n",
    "        nn.MaxPool2d(kernel_size = (2,2)),\n",
    "        nn.Dropout(0.3),\n",
    "        Flatten(),\n",
    "        nn.ReLU(2048),\n",
    "        nn.Dropout(0.4),\n",
    "        nn.Linear(2048,10),\n",
    "        nn.LogSoftmax(dim=1)\n",
    "    )\n",
    "\n",
    "# initialiaze the model class\n",
    "model = HousenumberCNN(classnet)\n",
    "# initilalize the optimizer\n",
    "optimizer = torch.optim.Adamax([p for p in model.parameters() \n",
    "                                if p.requires_grad == True], lr=lr, weight_decay=wd) \n",
    "\n",
    "# Training procedure\n",
    "nll_val, error_val = training(name=result_dir + name,\n",
    "                            max_patience=max_patience,\n",
    "                            num_epochs=num_epochs,\n",
    "                            model=model,\n",
    "                            optimizer=optimizer,\n",
    "                            training_loader=training_loader,\n",
    "                            val_loader=val_loader)\n",
    "\n",
    "# The final evaluation (on the test set)\n",
    "test_loss, test_error = evaluation(name=result_dir + name, test_loader=test_loader)\n",
    "plot_curve(result_dir + name, nll_val, file_name='_nll_val_curve.pdf', \n",
    "           ylabel='nll', test_eval=test_loss)\n",
    "plot_curve(result_dir + name, error_val, file_name='_ca_val_curve.pdf', \n",
    "           ylabel='ce', color='r-', test_eval=test_error)"
   ]
  },
  {
   "cell_type": "markdown",
   "metadata": {},
   "source": [
    "##### (1pt) Provide a good explanation of the applied architecture and a description of all components.\n",
    "\n",
    "I find it more sensible to first talk about the applied architecture and then continue with talking about the possible improvements. Hence, I will now explain the CNN structure that I came up with.\n",
    "\n",
    "Overall, there are a total of three convolutional layers applied in the structure. Due to their specific functionality, they have great power of understanding substructures in a picture and thereby form the main component (and the naming source) of CNNs. A convolutional layer contains a set of kernels whose parameters are improved during training. The size of the filters is significantly smaller which leads to the kernels analyzing a subpart of the pixels of the actual image. Each filter convolves with the current number of layers (initially three for red, green and blue components) of the image and creates an activation map from them, thereby creating a larger set of layers that encode certain information of the set of pixels. For my implementation, I found that a kernel size of 3 by 3 pixels works well.\n",
    "\n",
    "Every application of a convolutional layer was followed by a pass through a rectified linear unit (ReLU) activation function. An activation function receives the layer's output and converts it according to a certain formula. ReLU applies $f(x) = \\begin{cases} x & \\text{for } x \\geq 0 \\\\ 0 & \\text{for } x < 0 \\end{cases} = \\max(0,x)$. This activation function can be understood as returning the input if it is positive and not equal 0 and returning 0 in all other cases. Activation functions in general enable neural networks (that would otherwise simply be overcomplex expressions of basic linear regression) convergence towards problems of higher complexity that go beyond linear. ReLU was proposed because it eliminated the vanishing gradient problem of the otherwise popular sigmoid and tanh introduced through the use of many layers. Both sigmoid as well as tanh are very sensitive for values around their midpoint (0.5 for sigmoid and 0 for tanh) but make values snap to their extremes. When backpropagating error values, deep neural networks with many layers are less functional because cells fail to pass the gradient back in order to update the weights. Another advantage of ReLU is the computational simplicity since taking the maximum value of the input value and 0 is cheap to compute. It was generally found that working with ReLU allowed for faster convergence and more optimal performance in most cases. After some testing I can confirm these findings for my CNN structure.\n",
    "\n",
    "There are several max pooling layers in my CNN that I utilize to reduce the size of feature layers after they were created by convolution. This layer works by comparing a number of adjacent node values (in my case, I found a window size of 2 by 2 to be benefitial) and taking the maximum of that neighborhood as the new value. Next, the window comparing the neighboring values moves with a stride of the window dimensions (so not overlapping) further and repeats its max pooling procedure. This achieves a shrinking of parameter values (in my case, four values are combined to one) which combats computational expense as well as overfitting. \n",
    "\n",
    "Another element that is part of my structure is a dropout layer that randomly deactivates neurons and disable them from passing on their value down the network. By appling this type of layer, the network learning is forced to not simply focus on few important nodes but rather on a broad spectrum of them since focussing the information on one node is disadvantageous in the case that in a random iteration, the node is deactivated. This process avoids overfitting. Without the dropout layers, I found the network to converge faster towards a classification error of around $0.1$ but then not improving further but rather having more trouble classifying validation data. With the introduction of the dropout layers, the network converged slower towards $0.1$ error-margin but did not have any difficulty lowering the error to below $0.07$. These findings coincide with the explanation; the network has more information available and can therefore learn relationships faster, but with more time, a network with dropout will likely perform better since it does not overfit on the training data.\n",
    "\n",
    "After having applied a number of convoluations, thereby producing a variety of layers each encoding some feature of the images, the information needs to be transformed to an output that enables the classfication of an input image. In CNNs, this is usually achieved by connecting all feature values (nodes) produced by the last convolutional layer (and the application of activation functions and/or dropouts and/or pooling operations) to a set of nodes that represent the number of classes of the data. In my case, there were $2048$ nodes with encoded information left of which I connected every node to every one of the $10$ output nodes (encoding the $10$ digits). A total of $10*2048=20480$ weights were used for this operation, totally connecting to the output nodes.\n",
    "\n",
    "For the latter operation to be possible, I also applied a layer that \"flattened\" the nodes to one vector. In the last convolutional layer, a network can have multidimensional matrices (pytorch tensors) encoding information. These values need to be lined up into one line of values (vector) in order to be connected to the linear layer that fully connects the nodes to the 10 classifying output nodes.\n",
    "\n",
    "The 10 output nodes do not represent class probabilities when they are computed in their raw format by the fully connected layer. Instead, they can be values in any range and must therefore be converted to class probabilities that are interpretable. After being passed through a log-softmax function $(\\text{SoftMax}(x_i) = \\frac{\\exp(x_i)}{\\sum_j \\exp(x_j)})$, the values are normalized to a set of scalars in the range between 0 and 1 which sum to 1. Due to this format, they can be interpreted as probabilities of a class given a set of input values. The distance of this class-probability-vector and the one-hot vector encoding the target class can be calculated during training and is represented by the earlier described nll-loss depicted in the upper plot above."
   ]
  },
  {
   "cell_type": "markdown",
   "metadata": {},
   "source": [
    "##### (1pt) Think of an extra component that could improve the performance (e.g., a regularization, specific activation functions).\n",
    "\n",
    "I believe that an extra component could be batch normalization. This technique introduced in 2015 [ https://arxiv.org/abs/1502.03167 ] works by calculating the mean and standard deviation of all input variables given a set of inputs (mini-batch) and using statistics to perform standardization. After training, the mean and stds of the inputs for the layer can be set as mean values that were observed over the training set. As explained in the original paper, this technique is \"dramatically accelerating the training of deep networks.\" And \"merely adding Batch Normalization to a state-of-theart image classification model yield[ed] a substantial speedup in training.\" Due to their findings, I am confident that with proper tuning and some adjustments that would be needed no be done to the code (instead of simply adding it to the classnet), the training of the CNN can be drastically improved as well."
   ]
  },
  {
   "attachments": {
    "2baedcc9-1746-441b-8f4a-3b104936e6f2.png": {
     "image/png": "[encoded data removed]"
    },
    "8e6b4dfd-3929-4871-b14f-4270c4671ec1.png": {
     "image/png": "[encoded data removed]"
    }
   },
   "cell_type": "markdown",
   "metadata": {},
   "source": [
    "##### (2pt) Analyze the results.\n",
    "\n",
    "I think generally, my results are quite good. In the two graphs below, we see that the model converged to a very low loss and classification error during training. The goal for the classification error was 0.1 (later even raised to 0.2), which my CNN did achieve with ease (0.065 on average over multiple runs). This means that the trained model can be used to effectively classify pictures of digits on house walls. We can conclude this with high confidence, because the model achieved the low classification error on the test-set, which means that it is very unlikely that the CNN overfitted on the training data. Furthermore, the loss and classification error were very similar on the training and validation set compared to the test-set, which further speaks to the fact that the model did not overfit (visible in that both loss and error converge during training towards the value calculated on the test set). \n",
    "\n",
    "Overall, I am very happy with the CNN that I implemented, because regardless of its simple structure, it achieved a high performance, which reduces the time that it takes to train the model. \n",
    "\n",
    "![download.png](attachment:2baedcc9-1746-441b-8f4a-3b104936e6f2.png)\n",
    "![download.png](attachment:8e6b4dfd-3929-4871-b14f-4270c4671ec1.png)"
   ]
  }
 ],
 "metadata": {
  "colab": {
   "collapsed_sections": [],
   "name": "assignment_4.ipynb",
   "provenance": [],
   "toc_visible": true
  },
  "kernelspec": {
   "display_name": "Python 3",
   "language": "python",
   "name": "python3"
  },
  "language_info": {
   "codemirror_mode": {
    "name": "ipython",
    "version": 3
   },
   "file_extension": ".py",
   "mimetype": "text/x-python",
   "name": "python",
   "nbconvert_exporter": "python",
   "pygments_lexer": "ipython3",
   "version": "3.8.8"
  }
 },
 "nbformat": 4,
 "nbformat_minor": 4
}
